{
 "cells": [
  {
   "cell_type": "code",
   "execution_count": null,
   "id": "3d0f520e-7fd6-48ff-8993-5d901b641c7a",
   "metadata": {},
   "outputs": [],
   "source": [
    "# this notebook outlines the data preparation and model building of a heart disease classifier\n",
    "# the data set contains patient information regarding cardiovascular function and will train the classifier"
   ]
  },
  {
   "cell_type": "code",
   "execution_count": 1,
   "id": "c6de5cbf-07ff-41d9-96a1-0f054e401092",
   "metadata": {},
   "outputs": [],
   "source": [
    "import pandas as pd\n",
    "import numpy as np\n",
    "import matplotlib.pyplot as plt\n",
    "import seaborn as sns\n",
    "\n",
    "# import preprocessing and ML\n",
    "from sklearn.linear_model import LogisticRegression\n",
    "from sklearn.model_selection import train_test_split\n",
    "from sklearn.preprocessing import StandardScaler\n",
    "\n",
    "# import metrics \n",
    "from sklearn.metrics import confusion_matrix\n",
    "from sklearn.metrics import classification_report\n",
    "from sklearn.metrics import roc_curve\n",
    "from sklearn.metrics import roc_auc_score"
   ]
  },
  {
   "cell_type": "code",
   "execution_count": 2,
   "id": "be8b256e-5fbf-44e2-8bf5-ba7834ac045e",
   "metadata": {},
   "outputs": [],
   "source": [
    "# import data\n",
    "df = pd.read_csv('heart_data.csv')\n",
    "\n",
    "# map FastingBS into qualitative labels for dummy variable transformation later\n",
    "df['FastingBS'] = df['FastingBS'].map({0:'Under120', 1:'Over120'})\n",
    "\n",
    "# create object for scaling numeric values\n",
    "sc_trans = StandardScaler()\n",
    "\n",
    "# transform the numeric values in df\n",
    "sc_array = sc_trans.fit_transform(df.loc[:,['Age', 'RestingBP', 'Cholesterol', 'MaxHR', 'Oldpeak']])\n",
    "\n",
    "# make a copy of original df; scaled values will go into copy \n",
    "sc_df = df.copy()\n",
    "\n",
    "# insert the scaled values from sc_array into new scaled df (sc_df)\n",
    "for i, col in enumerate(['Age', 'RestingBP', 'Cholesterol', 'MaxHR', 'Oldpeak']):\n",
    "    sc_df[col] = sc_array[:, i].reshape(-1,1)\n",
    "    \n",
    "# split up data by gender and drop Sex column from df\n",
    "df_male = sc_df.loc[sc_df['Sex'] == 'M']\n",
    "df_male_dummy = pd.get_dummies(df_male).drop('Sex_M', axis=1)\n",
    "\n",
    "df_female = sc_df.loc[sc_df['Sex'] == 'F']\n",
    "df_female_dummy = pd.get_dummies(df_female).drop('Sex_F', axis=1)\n",
    "\n",
    "# create X and y for male and female\n",
    "X_male = df_male_dummy.drop('HeartDisease', axis=1)\n",
    "y_male = df_male_dummy.loc[:, 'HeartDisease']\n",
    "\n",
    "X_fem = df_female_dummy.drop('HeartDisease', axis=1)\n",
    "y_fem = df_female_dummy.loc[:, 'HeartDisease']\n",
    "\n",
    "# train test split for males\n",
    "X_train_m, X_test_m, y_train_m, y_test_m = train_test_split(X_male, y_male,\n",
    "                                                           test_size=0.2,\n",
    "                                                           random_state=42,\n",
    "                                                           stratify=y_male)\n",
    "\n",
    "# # train test split for femalaes\n",
    "X_train_f, X_test_f, y_train_f, y_test_f = train_test_split(X_fem, y_fem,\n",
    "                                                           test_size=0.2,\n",
    "                                                           random_state=42,\n",
    "                                                           stratify=y_fem)\n",
    "\n",
    "# make logistic regression objects\n",
    "male_log_reg = LogisticRegression(solver='liblinear').fit(X_train_m, y_train_m)\n",
    "fem_log_reg = LogisticRegression(solver='liblinear').fit(X_train_f, y_train_f)"
   ]
  },
  {
   "cell_type": "code",
   "execution_count": 3,
   "id": "7979fbe6-abd4-420c-bb57-06481f5df81b",
   "metadata": {},
   "outputs": [
    {
     "data": {
      "text/plain": [
       "0.8896551724137931"
      ]
     },
     "execution_count": 3,
     "metadata": {},
     "output_type": "execute_result"
    }
   ],
   "source": [
    "# check results for male predictor\n",
    "male_log_reg.score(X_test_m, y_test_m)"
   ]
  },
  {
   "cell_type": "code",
   "execution_count": 4,
   "id": "ac64c5c0-269e-4827-8056-b034b4127319",
   "metadata": {},
   "outputs": [
    {
     "data": {
      "text/plain": [
       "array([[45,  8],\n",
       "       [ 8, 84]], dtype=int64)"
      ]
     },
     "execution_count": 4,
     "metadata": {},
     "output_type": "execute_result"
    }
   ],
   "source": [
    "# for male results confusion matrix\n",
    "confusion_matrix(y_test_m, male_log_reg.predict(X_test_m))"
   ]
  },
  {
   "cell_type": "code",
   "execution_count": 5,
   "id": "f516a8f3-e854-49bc-8639-a8996860232b",
   "metadata": {},
   "outputs": [
    {
     "data": {
      "text/plain": [
       "'              precision    recall  f1-score   support\\n\\n           0       0.85      0.85      0.85        53\\n           1       0.91      0.91      0.91        92\\n\\n    accuracy                           0.89       145\\n   macro avg       0.88      0.88      0.88       145\\nweighted avg       0.89      0.89      0.89       145\\n'"
      ]
     },
     "execution_count": 5,
     "metadata": {},
     "output_type": "execute_result"
    }
   ],
   "source": [
    "# male results classification report\n",
    "classification_report(y_test_m, male_log_reg.predict(X_test_m))"
   ]
  },
  {
   "cell_type": "code",
   "execution_count": 6,
   "id": "d9c6217e-d93f-43aa-85b2-b3b587189eef",
   "metadata": {},
   "outputs": [
    {
     "data": {
      "image/png": "[encoded data removed]",
      "text/plain": [
       "<Figure size 864x576 with 1 Axes>"
      ]
     },
     "metadata": {
      "needs_background": "light"
     },
     "output_type": "display_data"
    }
   ],
   "source": [
    "# making ROC curve for male\n",
    "male_prob = male_log_reg.predict_proba(X_test_m)\n",
    "male_prob_col = male_prob[:,1]\n",
    "\n",
    "ns_fpr_m, ns_tpr_m, _ = roc_curve(y_test_m, [0 for _ in range(len(y_test_m))])\n",
    "lr_fpr_m, lr_tpr_m, _ = roc_curve(y_test_m, male_prob_col)\n",
    "\n",
    "fig, ax = plt.subplots(figsize=(12, 8))\n",
    "ax.plot(ns_fpr_m, ns_tpr_m, linestyle='dashed', color='grey')\n",
    "ax.plot(lr_fpr_m, lr_tpr_m, marker='.', label='Logistic Reg. AUC: ' + str(round(roc_auc_score(y_test_m, male_log_reg.predict_proba(X_test_m)[:,1]), 5)), color='black')\n",
    "ax.set_title('ROC Curve Heart Disease Male (Logistic Regression)')\n",
    "ax.set_xlabel('False Positive Rate')\n",
    "ax.set_ylabel('True Positive Rate')\n",
    "ax.legend()\n",
    "\n",
    "plt.show()"
   ]
  },
  {
   "cell_type": "code",
   "execution_count": 7,
   "id": "da57e3d7-08a5-480c-b10b-ab5808b38649",
   "metadata": {},
   "outputs": [
    {
     "data": {
      "text/plain": [
       "'0.94278'"
      ]
     },
     "execution_count": 7,
     "metadata": {},
     "output_type": "execute_result"
    }
   ],
   "source": [
    "# AUC score for male \n",
    "str(round(roc_auc_score(y_test_m, male_log_reg.predict_proba(X_test_m)[:,1]), 5))"
   ]
  },
  {
   "cell_type": "code",
   "execution_count": 8,
   "id": "da7b2c82-4edb-4e8c-8201-bac38ce8bee2",
   "metadata": {},
   "outputs": [
    {
     "data": {
      "text/plain": [
       "0.9230769230769231"
      ]
     },
     "execution_count": 8,
     "metadata": {},
     "output_type": "execute_result"
    }
   ],
   "source": [
    "# check results for female predictor\n",
    "fem_log_reg.score(X_test_f, y_test_f)"
   ]
  },
  {
   "cell_type": "code",
   "execution_count": 9,
   "id": "53ff1b5d-b14d-402a-a35d-efae6655c7c0",
   "metadata": {},
   "outputs": [
    {
     "data": {
      "text/plain": [
       "array([[27,  2],\n",
       "       [ 1,  9]], dtype=int64)"
      ]
     },
     "execution_count": 9,
     "metadata": {},
     "output_type": "execute_result"
    }
   ],
   "source": [
    "# female results confusion matrix\n",
    "confusion_matrix(y_test_f, fem_log_reg.predict(X_test_f))"
   ]
  },
  {
   "cell_type": "code",
   "execution_count": 10,
   "id": "cf2b27f6-d9e5-452b-8c04-b48c3473bbc5",
   "metadata": {},
   "outputs": [
    {
     "data": {
      "text/plain": [
       "'              precision    recall  f1-score   support\\n\\n           0       0.96      0.93      0.95        29\\n           1       0.82      0.90      0.86        10\\n\\n    accuracy                           0.92        39\\n   macro avg       0.89      0.92      0.90        39\\nweighted avg       0.93      0.92      0.92        39\\n'"
      ]
     },
     "execution_count": 10,
     "metadata": {},
     "output_type": "execute_result"
    }
   ],
   "source": [
    "# female results classification report\n",
    "classification_report(y_test_f, fem_log_reg.predict(X_test_f))"
   ]
  },
  {
   "cell_type": "code",
   "execution_count": 11,
   "id": "335e9ce7-e889-46ca-8b96-47a6a9a13134",
   "metadata": {},
   "outputs": [
    {
     "data": {
      "image/png": "[encoded data removed]",
      "text/plain": [
       "<Figure size 864x576 with 1 Axes>"
      ]
     },
     "metadata": {
      "needs_background": "light"
     },
     "output_type": "display_data"
    }
   ],
   "source": [
    "# making ROC curve for female\n",
    "fem_prob = fem_log_reg.predict_proba(X_test_f)\n",
    "fem_prob_col = fem_prob[:,1]\n",
    "\n",
    "ns_fpr_f, ns_tpr_f, _ = roc_curve(y_test_f, [0 for _ in range(len(y_test_f))])\n",
    "lr_fpr_f, lr_tpr_f, _ = roc_curve(y_test_f, fem_prob_col)\n",
    "\n",
    "fig, ax = plt.subplots(figsize=(12, 8))\n",
    "ax.plot(ns_fpr_f, ns_tpr_f, linestyle='dashed', color='grey')\n",
    "ax.plot(lr_fpr_f, lr_tpr_f, marker='.', label='Logistic Reg. AUC: ' + str(round(roc_auc_score(y_test_f, fem_log_reg.predict_proba(X_test_f)[:,1]), 5)), color='black')\n",
    "ax.set_title('ROC Curve Heart Disease Female (Logistic Regression)')\n",
    "ax.set_xlabel('False Positive Rate')\n",
    "ax.set_ylabel('True Positive Rate')\n",
    "ax.legend()\n",
    "\n",
    "plt.show()"
   ]
  },
  {
   "cell_type": "code",
   "execution_count": 12,
   "id": "43cf1a46-5ba1-45fe-b849-f7d4e9dcd8ce",
   "metadata": {},
   "outputs": [
    {
     "data": {
      "text/plain": [
       "'0.98621'"
      ]
     },
     "execution_count": 12,
     "metadata": {},
     "output_type": "execute_result"
    }
   ],
   "source": [
    "# AUC score female\n",
    "str(round(roc_auc_score(y_test_f, fem_log_reg.predict_proba(X_test_f)[:,1]), 5))"
   ]
  },
  {
   "cell_type": "code",
   "execution_count": 13,
   "id": "7b0406df-d639-4b24-b1a8-9c0fa3f0091a",
   "metadata": {},
   "outputs": [],
   "source": [
    "# various parameters of this experiment following"
   ]
  },
  {
   "cell_type": "code",
   "execution_count": 14,
   "id": "bb176419-f80a-433c-a405-67cf6f8730c7",
   "metadata": {},
   "outputs": [
    {
     "data": {
      "text/html": [
       "<div>\n",
       "<style scoped>\n",
       "    .dataframe tbody tr th:only-of-type {\n",
       "        vertical-align: middle;\n",
       "    }\n",
       "\n",
       "    .dataframe tbody tr th {\n",
       "        vertical-align: top;\n",
       "    }\n",
       "\n",
       "    .dataframe thead th {\n",
       "        text-align: right;\n",
       "    }\n",
       "</style>\n",
       "<table border=\"1\" class=\"dataframe\">\n",
       "  <thead>\n",
       "    <tr style=\"text-align: right;\">\n",
       "      <th></th>\n",
       "      <th>Age</th>\n",
       "      <th>RestingBP</th>\n",
       "      <th>Cholesterol</th>\n",
       "      <th>MaxHR</th>\n",
       "      <th>Oldpeak</th>\n",
       "      <th>ChestPainType_ASY</th>\n",
       "      <th>ChestPainType_ATA</th>\n",
       "      <th>ChestPainType_NAP</th>\n",
       "      <th>ChestPainType_TA</th>\n",
       "      <th>FastingBS_Over120</th>\n",
       "      <th>FastingBS_Under120</th>\n",
       "      <th>RestingECG_LVH</th>\n",
       "      <th>RestingECG_Normal</th>\n",
       "      <th>RestingECG_ST</th>\n",
       "      <th>ExerciseAngina_N</th>\n",
       "      <th>ExerciseAngina_Y</th>\n",
       "      <th>ST_Slope_Down</th>\n",
       "      <th>ST_Slope_Flat</th>\n",
       "      <th>ST_Slope_Up</th>\n",
       "    </tr>\n",
       "  </thead>\n",
       "  <tbody>\n",
       "    <tr>\n",
       "      <th>1</th>\n",
       "      <td>-0.478484</td>\n",
       "      <td>1.491752</td>\n",
       "      <td>-0.171961</td>\n",
       "      <td>0.754157</td>\n",
       "      <td>0.105664</td>\n",
       "      <td>0</td>\n",
       "      <td>0</td>\n",
       "      <td>1</td>\n",
       "      <td>0</td>\n",
       "      <td>0</td>\n",
       "      <td>1</td>\n",
       "      <td>0</td>\n",
       "      <td>1</td>\n",
       "      <td>0</td>\n",
       "      <td>1</td>\n",
       "      <td>0</td>\n",
       "      <td>0</td>\n",
       "      <td>1</td>\n",
       "      <td>0</td>\n",
       "    </tr>\n",
       "    <tr>\n",
       "      <th>3</th>\n",
       "      <td>-0.584556</td>\n",
       "      <td>0.302825</td>\n",
       "      <td>0.139040</td>\n",
       "      <td>-1.132156</td>\n",
       "      <td>0.574711</td>\n",
       "      <td>1</td>\n",
       "      <td>0</td>\n",
       "      <td>0</td>\n",
       "      <td>0</td>\n",
       "      <td>0</td>\n",
       "      <td>1</td>\n",
       "      <td>0</td>\n",
       "      <td>1</td>\n",
       "      <td>0</td>\n",
       "      <td>0</td>\n",
       "      <td>1</td>\n",
       "      <td>0</td>\n",
       "      <td>1</td>\n",
       "      <td>0</td>\n",
       "    </tr>\n",
       "    <tr>\n",
       "      <th>6</th>\n",
       "      <td>-0.902775</td>\n",
       "      <td>-0.129513</td>\n",
       "      <td>0.349422</td>\n",
       "      <td>1.304332</td>\n",
       "      <td>-0.832432</td>\n",
       "      <td>0</td>\n",
       "      <td>1</td>\n",
       "      <td>0</td>\n",
       "      <td>0</td>\n",
       "      <td>0</td>\n",
       "      <td>1</td>\n",
       "      <td>0</td>\n",
       "      <td>1</td>\n",
       "      <td>0</td>\n",
       "      <td>1</td>\n",
       "      <td>0</td>\n",
       "      <td>0</td>\n",
       "      <td>0</td>\n",
       "      <td>1</td>\n",
       "    </tr>\n",
       "    <tr>\n",
       "      <th>9</th>\n",
       "      <td>-0.584556</td>\n",
       "      <td>-0.669935</td>\n",
       "      <td>0.779335</td>\n",
       "      <td>-0.660578</td>\n",
       "      <td>-0.832432</td>\n",
       "      <td>0</td>\n",
       "      <td>1</td>\n",
       "      <td>0</td>\n",
       "      <td>0</td>\n",
       "      <td>0</td>\n",
       "      <td>1</td>\n",
       "      <td>0</td>\n",
       "      <td>1</td>\n",
       "      <td>0</td>\n",
       "      <td>1</td>\n",
       "      <td>0</td>\n",
       "      <td>0</td>\n",
       "      <td>0</td>\n",
       "      <td>1</td>\n",
       "    </tr>\n",
       "    <tr>\n",
       "      <th>10</th>\n",
       "      <td>-1.751359</td>\n",
       "      <td>-0.129513</td>\n",
       "      <td>0.111598</td>\n",
       "      <td>0.203982</td>\n",
       "      <td>-0.832432</td>\n",
       "      <td>0</td>\n",
       "      <td>0</td>\n",
       "      <td>1</td>\n",
       "      <td>0</td>\n",
       "      <td>0</td>\n",
       "      <td>1</td>\n",
       "      <td>0</td>\n",
       "      <td>1</td>\n",
       "      <td>0</td>\n",
       "      <td>1</td>\n",
       "      <td>0</td>\n",
       "      <td>0</td>\n",
       "      <td>0</td>\n",
       "      <td>1</td>\n",
       "    </tr>\n",
       "  </tbody>\n",
       "</table>\n",
       "</div>"
      ],
      "text/plain": [
       "         Age  RestingBP  Cholesterol     MaxHR   Oldpeak  ChestPainType_ASY  \\\n",
       "1  -0.478484   1.491752    -0.171961  0.754157  0.105664                  0   \n",
       "3  -0.584556   0.302825     0.139040 -1.132156  0.574711                  1   \n",
       "6  -0.902775  -0.129513     0.349422  1.304332 -0.832432                  0   \n",
       "9  -0.584556  -0.669935     0.779335 -0.660578 -0.832432                  0   \n",
       "10 -1.751359  -0.129513     0.111598  0.203982 -0.832432                  0   \n",
       "\n",
       "    ChestPainType_ATA  ChestPainType_NAP  ChestPainType_TA  FastingBS_Over120  \\\n",
       "1                   0                  1                 0                  0   \n",
       "3                   0                  0                 0                  0   \n",
       "6                   1                  0                 0                  0   \n",
       "9                   1                  0                 0                  0   \n",
       "10                  0                  1                 0                  0   \n",
       "\n",
       "    FastingBS_Under120  RestingECG_LVH  RestingECG_Normal  RestingECG_ST  \\\n",
       "1                    1               0                  1              0   \n",
       "3                    1               0                  1              0   \n",
       "6                    1               0                  1              0   \n",
       "9                    1               0                  1              0   \n",
       "10                   1               0                  1              0   \n",
       "\n",
       "    ExerciseAngina_N  ExerciseAngina_Y  ST_Slope_Down  ST_Slope_Flat  \\\n",
       "1                  1                 0              0              1   \n",
       "3                  0                 1              0              1   \n",
       "6                  1                 0              0              0   \n",
       "9                  1                 0              0              0   \n",
       "10                 1                 0              0              0   \n",
       "\n",
       "    ST_Slope_Up  \n",
       "1             0  \n",
       "3             0  \n",
       "6             1  \n",
       "9             1  \n",
       "10            1  "
      ]
     },
     "execution_count": 14,
     "metadata": {},
     "output_type": "execute_result"
    }
   ],
   "source": [
    "X_fem.head()"
   ]
  },
  {
   "cell_type": "code",
   "execution_count": 15,
   "id": "8d1a4556-31e1-4f54-895b-0ac67b0ff0d1",
   "metadata": {},
   "outputs": [
    {
     "data": {
      "text/plain": [
       "1     1\n",
       "3     1\n",
       "6     0\n",
       "9     0\n",
       "10    0\n",
       "Name: HeartDisease, dtype: int64"
      ]
     },
     "execution_count": 15,
     "metadata": {},
     "output_type": "execute_result"
    }
   ],
   "source": [
    "y_fem.head()"
   ]
  },
  {
   "cell_type": "code",
   "execution_count": 16,
   "id": "48c1ae8c-153c-44c9-b7d4-8ba9f17eb9ee",
   "metadata": {},
   "outputs": [
    {
     "data": {
      "text/html": [
       "<div>\n",
       "<style scoped>\n",
       "    .dataframe tbody tr th:only-of-type {\n",
       "        vertical-align: middle;\n",
       "    }\n",
       "\n",
       "    .dataframe tbody tr th {\n",
       "        vertical-align: top;\n",
       "    }\n",
       "\n",
       "    .dataframe thead th {\n",
       "        text-align: right;\n",
       "    }\n",
       "</style>\n",
       "<table border=\"1\" class=\"dataframe\">\n",
       "  <thead>\n",
       "    <tr style=\"text-align: right;\">\n",
       "      <th></th>\n",
       "      <th>HeartDisease</th>\n",
       "    </tr>\n",
       "  </thead>\n",
       "  <tbody>\n",
       "    <tr>\n",
       "      <th>1</th>\n",
       "      <td>1</td>\n",
       "    </tr>\n",
       "    <tr>\n",
       "      <th>3</th>\n",
       "      <td>1</td>\n",
       "    </tr>\n",
       "    <tr>\n",
       "      <th>6</th>\n",
       "      <td>0</td>\n",
       "    </tr>\n",
       "    <tr>\n",
       "      <th>9</th>\n",
       "      <td>0</td>\n",
       "    </tr>\n",
       "    <tr>\n",
       "      <th>10</th>\n",
       "      <td>0</td>\n",
       "    </tr>\n",
       "  </tbody>\n",
       "</table>\n",
       "</div>"
      ],
      "text/plain": [
       "    HeartDisease\n",
       "1              1\n",
       "3              1\n",
       "6              0\n",
       "9              0\n",
       "10             0"
      ]
     },
     "execution_count": 16,
     "metadata": {},
     "output_type": "execute_result"
    }
   ],
   "source": [
    "pd.DataFrame(y_fem).head()"
   ]
  },
  {
   "cell_type": "code",
   "execution_count": 17,
   "id": "428f3d9c-8d7f-41d9-9957-19b7d25d9b43",
   "metadata": {},
   "outputs": [
    {
     "data": {
      "text/plain": [
       "(193, 19)"
      ]
     },
     "execution_count": 17,
     "metadata": {},
     "output_type": "execute_result"
    }
   ],
   "source": [
    "X_fem.shape"
   ]
  },
  {
   "cell_type": "code",
   "execution_count": 18,
   "id": "3a345e50-4ec1-44ab-bc7d-88adc7765d5a",
   "metadata": {},
   "outputs": [
    {
     "data": {
      "text/plain": [
       "array([-0.12250026])"
      ]
     },
     "execution_count": 18,
     "metadata": {},
     "output_type": "execute_result"
    }
   ],
   "source": [
    "fem_log_reg.intercept_"
   ]
  },
  {
   "cell_type": "code",
   "execution_count": 19,
   "id": "715be4ea-e60d-4549-96f5-97f694b368be",
   "metadata": {},
   "outputs": [
    {
     "data": {
      "text/plain": [
       "array([[ 0.32171226,  0.43383653, -0.44885086,  0.15843699,  0.24400937,\n",
       "         0.75526081, -0.36180891, -0.12169995, -0.39425221,  0.75825691,\n",
       "        -0.88075717, -0.03646036,  0.03901627, -0.12505617, -0.51069968,\n",
       "         0.38819942,  0.57569395,  0.68302224, -1.38121644]])"
      ]
     },
     "execution_count": 19,
     "metadata": {},
     "output_type": "execute_result"
    }
   ],
   "source": [
    "fem_log_reg.coef_"
   ]
  },
  {
   "cell_type": "code",
   "execution_count": 20,
   "id": "1fbbaaff-a416-413e-b702-45dd890e3d2a",
   "metadata": {},
   "outputs": [
    {
     "data": {
      "text/plain": [
       "array([0.14921988])"
      ]
     },
     "execution_count": 20,
     "metadata": {},
     "output_type": "execute_result"
    }
   ],
   "source": [
    "male_log_reg.intercept_"
   ]
  },
  {
   "cell_type": "code",
   "execution_count": 21,
   "id": "1f721994-37e9-4183-a878-714a60ff4307",
   "metadata": {},
   "outputs": [
    {
     "data": {
      "text/plain": [
       "array([[ 0.06871555, -0.00994376, -0.45721579, -0.16426663,  0.56906635,\n",
       "         1.17936002, -0.52799855, -0.36555466, -0.13658694,  0.54070543,\n",
       "        -0.39148555,  0.13845299, -0.10641562,  0.1171825 , -0.29182604,\n",
       "         0.44104592, -0.19378576,  1.26235109, -0.91934545]])"
      ]
     },
     "execution_count": 21,
     "metadata": {},
     "output_type": "execute_result"
    }
   ],
   "source": [
    "male_log_reg.coef_"
   ]
  },
  {
   "cell_type": "code",
   "execution_count": 22,
   "id": "62bcb466-c0b3-4af0-844a-cb1875b8e49e",
   "metadata": {},
   "outputs": [
    {
     "data": {
      "text/plain": [
       "Index(['Age', 'RestingBP', 'Cholesterol', 'MaxHR', 'Oldpeak',\n",
       "       'ChestPainType_ASY', 'ChestPainType_ATA', 'ChestPainType_NAP',\n",
       "       'ChestPainType_TA', 'FastingBS_Over120', 'FastingBS_Under120',\n",
       "       'RestingECG_LVH', 'RestingECG_Normal', 'RestingECG_ST',\n",
       "       'ExerciseAngina_N', 'ExerciseAngina_Y', 'ST_Slope_Down',\n",
       "       'ST_Slope_Flat', 'ST_Slope_Up'],\n",
       "      dtype='object')"
      ]
     },
     "execution_count": 22,
     "metadata": {},
     "output_type": "execute_result"
    }
   ],
   "source": [
    "X_train_m.columns"
   ]
  },
  {
   "cell_type": "code",
   "execution_count": 23,
   "id": "2729a9c2-9a54-4fff-9f17-4511811fb797",
   "metadata": {},
   "outputs": [
    {
     "data": {
      "text/html": [
       "<div>\n",
       "<style scoped>\n",
       "    .dataframe tbody tr th:only-of-type {\n",
       "        vertical-align: middle;\n",
       "    }\n",
       "\n",
       "    .dataframe tbody tr th {\n",
       "        vertical-align: top;\n",
       "    }\n",
       "\n",
       "    .dataframe thead th {\n",
       "        text-align: right;\n",
       "    }\n",
       "</style>\n",
       "<table border=\"1\" class=\"dataframe\">\n",
       "  <thead>\n",
       "    <tr style=\"text-align: right;\">\n",
       "      <th></th>\n",
       "      <th>Male</th>\n",
       "      <th>Female</th>\n",
       "    </tr>\n",
       "  </thead>\n",
       "  <tbody>\n",
       "    <tr>\n",
       "      <th>Age</th>\n",
       "      <td>0.068716</td>\n",
       "      <td>0.321712</td>\n",
       "    </tr>\n",
       "    <tr>\n",
       "      <th>RestingBP</th>\n",
       "      <td>-0.009944</td>\n",
       "      <td>0.433837</td>\n",
       "    </tr>\n",
       "    <tr>\n",
       "      <th>Cholesterol</th>\n",
       "      <td>-0.457216</td>\n",
       "      <td>-0.448851</td>\n",
       "    </tr>\n",
       "    <tr>\n",
       "      <th>MaxHR</th>\n",
       "      <td>-0.164267</td>\n",
       "      <td>0.158437</td>\n",
       "    </tr>\n",
       "    <tr>\n",
       "      <th>Oldpeak</th>\n",
       "      <td>0.569066</td>\n",
       "      <td>0.244009</td>\n",
       "    </tr>\n",
       "    <tr>\n",
       "      <th>ChestPainType_ASY</th>\n",
       "      <td>1.179360</td>\n",
       "      <td>0.755261</td>\n",
       "    </tr>\n",
       "    <tr>\n",
       "      <th>ChestPainType_ATA</th>\n",
       "      <td>-0.527999</td>\n",
       "      <td>-0.361809</td>\n",
       "    </tr>\n",
       "    <tr>\n",
       "      <th>ChestPainType_NAP</th>\n",
       "      <td>-0.365555</td>\n",
       "      <td>-0.121700</td>\n",
       "    </tr>\n",
       "    <tr>\n",
       "      <th>ChestPainType_TA</th>\n",
       "      <td>-0.136587</td>\n",
       "      <td>-0.394252</td>\n",
       "    </tr>\n",
       "    <tr>\n",
       "      <th>FastingBS_Over120</th>\n",
       "      <td>0.540705</td>\n",
       "      <td>0.758257</td>\n",
       "    </tr>\n",
       "    <tr>\n",
       "      <th>FastingBS_Under120</th>\n",
       "      <td>-0.391486</td>\n",
       "      <td>-0.880757</td>\n",
       "    </tr>\n",
       "    <tr>\n",
       "      <th>RestingECG_LVH</th>\n",
       "      <td>0.138453</td>\n",
       "      <td>-0.036460</td>\n",
       "    </tr>\n",
       "    <tr>\n",
       "      <th>RestingECG_Normal</th>\n",
       "      <td>-0.106416</td>\n",
       "      <td>0.039016</td>\n",
       "    </tr>\n",
       "    <tr>\n",
       "      <th>RestingECG_ST</th>\n",
       "      <td>0.117183</td>\n",
       "      <td>-0.125056</td>\n",
       "    </tr>\n",
       "    <tr>\n",
       "      <th>ExerciseAngina_N</th>\n",
       "      <td>-0.291826</td>\n",
       "      <td>-0.510700</td>\n",
       "    </tr>\n",
       "    <tr>\n",
       "      <th>ExerciseAngina_Y</th>\n",
       "      <td>0.441046</td>\n",
       "      <td>0.388199</td>\n",
       "    </tr>\n",
       "    <tr>\n",
       "      <th>ST_Slope_Down</th>\n",
       "      <td>-0.193786</td>\n",
       "      <td>0.575694</td>\n",
       "    </tr>\n",
       "    <tr>\n",
       "      <th>ST_Slope_Flat</th>\n",
       "      <td>1.262351</td>\n",
       "      <td>0.683022</td>\n",
       "    </tr>\n",
       "    <tr>\n",
       "      <th>ST_Slope_Up</th>\n",
       "      <td>-0.919345</td>\n",
       "      <td>-1.381216</td>\n",
       "    </tr>\n",
       "  </tbody>\n",
       "</table>\n",
       "</div>"
      ],
      "text/plain": [
       "                        Male    Female\n",
       "Age                 0.068716  0.321712\n",
       "RestingBP          -0.009944  0.433837\n",
       "Cholesterol        -0.457216 -0.448851\n",
       "MaxHR              -0.164267  0.158437\n",
       "Oldpeak             0.569066  0.244009\n",
       "ChestPainType_ASY   1.179360  0.755261\n",
       "ChestPainType_ATA  -0.527999 -0.361809\n",
       "ChestPainType_NAP  -0.365555 -0.121700\n",
       "ChestPainType_TA   -0.136587 -0.394252\n",
       "FastingBS_Over120   0.540705  0.758257\n",
       "FastingBS_Under120 -0.391486 -0.880757\n",
       "RestingECG_LVH      0.138453 -0.036460\n",
       "RestingECG_Normal  -0.106416  0.039016\n",
       "RestingECG_ST       0.117183 -0.125056\n",
       "ExerciseAngina_N   -0.291826 -0.510700\n",
       "ExerciseAngina_Y    0.441046  0.388199\n",
       "ST_Slope_Down      -0.193786  0.575694\n",
       "ST_Slope_Flat       1.262351  0.683022\n",
       "ST_Slope_Up        -0.919345 -1.381216"
      ]
     },
     "execution_count": 23,
     "metadata": {},
     "output_type": "execute_result"
    }
   ],
   "source": [
    "pd.DataFrame({'Male': male_log_reg.coef_.reshape(-1), 'Female': fem_log_reg.coef_.reshape(-1)}, index=X_train_m.columns)"
   ]
  },
  {
   "cell_type": "code",
   "execution_count": null,
   "id": "8e1dd121-9161-472d-add4-68e3f51c37d2",
   "metadata": {},
   "outputs": [],
   "source": []
  },
  {
   "cell_type": "code",
   "execution_count": null,
   "id": "550bfa0d-51f5-41a7-88ea-90673c4cb505",
   "metadata": {},
   "outputs": [],
   "source": []
  },
  {
   "cell_type": "code",
   "execution_count": null,
   "id": "3baef32f-f38b-4fea-8e92-7f5d28e962ed",
   "metadata": {},
   "outputs": [],
   "source": []
  },
  {
   "cell_type": "code",
   "execution_count": null,
   "id": "d88f38c5-68df-470e-822c-babc1591cf2b",
   "metadata": {},
   "outputs": [],
   "source": []
  },
  {
   "cell_type": "code",
   "execution_count": null,
   "id": "5f3c2299-8bf9-4685-99d3-e75d9619cb17",
   "metadata": {},
   "outputs": [],
   "source": []
  }
 ],
 "metadata": {
  "kernelspec": {
   "display_name": "Python 3 (ipykernel)",
   "language": "python",
   "name": "python3"
  },
  "language_info": {
   "codemirror_mode": {
    "name": "ipython",
    "version": 3
   },
   "file_extension": ".py",
   "mimetype": "text/x-python",
   "name": "python",
   "nbconvert_exporter": "python",
   "pygments_lexer": "ipython3",
   "version": "3.8.12"
  }
 },
 "nbformat": 4,
 "nbformat_minor": 5
}
